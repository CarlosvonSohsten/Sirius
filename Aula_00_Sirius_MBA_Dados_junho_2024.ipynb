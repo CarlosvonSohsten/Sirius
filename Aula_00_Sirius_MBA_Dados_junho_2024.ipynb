{
  "nbformat": 4,
  "nbformat_minor": 0,
  "metadata": {
    "colab": {
      "provenance": [],
      "authorship_tag": "ABX9TyM0AC9NCmcvxWDBue9/clhn",
      "include_colab_link": true
    },
    "kernelspec": {
      "name": "python3",
      "display_name": "Python 3"
    },
    "language_info": {
      "name": "python"
    }
  },
  "cells": [
    {
      "cell_type": "markdown",
      "metadata": {
        "id": "view-in-github",
        "colab_type": "text"
      },
      "source": [
        "<a href=\"https://colab.research.google.com/github/CarlosvonSohsten/Sirius/blob/main/Aula_00_Sirius_MBA_Dados_junho_2024.ipynb\" target=\"_parent\"><img src=\"https://colab.research.google.com/assets/colab-badge.svg\" alt=\"Open In Colab\"/></a>"
      ]
    },
    {
      "cell_type": "code",
      "execution_count": null,
      "metadata": {
        "id": "1pFl2ZAx9sgQ"
      },
      "outputs": [],
      "source": []
    },
    {
      "cell_type": "markdown",
      "source": [
        "# **Aula 00 - Apresentação**\n"
      ],
      "metadata": {
        "id": "WHPxeuOJ9z_0"
      }
    },
    {
      "cell_type": "code",
      "source": [
        "!python --version"
      ],
      "metadata": {
        "colab": {
          "base_uri": "https://localhost:8080/"
        },
        "id": "UeET-HHV-Fi9",
        "outputId": "d1d6ab67-08e6-46f7-ba72-4c70adbadc1d"
      },
      "execution_count": null,
      "outputs": [
        {
          "output_type": "stream",
          "name": "stdout",
          "text": [
            "Python 3.10.12\n"
          ]
        }
      ]
    },
    {
      "cell_type": "code",
      "source": [
        "print ('Seja bem vindo ao bootcamp Sirius')"
      ],
      "metadata": {
        "id": "IDKpmw3R-bom",
        "outputId": "6f7b4bea-2d4a-425b-b3fa-ccd92dbc731a",
        "colab": {
          "base_uri": "https://localhost:8080/"
        }
      },
      "execution_count": null,
      "outputs": [
        {
          "output_type": "stream",
          "name": "stdout",
          "text": [
            "Seja bem vindo ao bootcamp Sirius\n"
          ]
        }
      ]
    }
  ]
}